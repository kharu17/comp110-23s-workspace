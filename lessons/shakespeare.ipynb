{
 "cells": [
  {
   "attachments": {},
   "cell_type": "markdown",
   "metadata": {},
   "source": [
    "# Quantifying Shakespeare\n",
    "Analyzing the frequencies of differrent letters in Shakepeare's work.\n",
    "\n",
    "(Data from: bit.ly/shakespeare-txt)\n",
    "\n",
    "In this notebook, we will:\n",
    "1. Read all of Shakespeare's works into a list of strings\n",
    "2. Count the frequencies of letters used\n",
    "3. Visualize the frequencies with a bar graph"
   ]
  },
  {
   "attachments": {},
   "cell_type": "markdown",
   "metadata": {},
   "source": [
    "## Reading Lines\n"
   ]
  },
  {
   "cell_type": "code",
   "execution_count": 4,
   "metadata": {},
   "outputs": [
    {
     "name": "stdout",
     "output_type": "stream",
     "text": [
      "124456\n"
     ]
    }
   ],
   "source": [
    "from io import TextIOWrapper\n",
    "\n",
    "def read_lines(filename: str) -> list[str]:\n",
    "    \"\"\"Read a text file into a list of strings for each line.\"\"\"\n",
    "    lines: list[str] = []\n",
    "    file_handle: TextIOWrapper = open(filename, \"r\")\n",
    "    for line in file_handle:\n",
    "        # strip leading and tailing whitespaces \" a \" -> \"a\"\n",
    "        line = line.strip()\n",
    "        # make every character lowercase\n",
    "        line = line.lower()\n",
    "        lines.append(line)\n",
    "    file_handle.close()\n",
    "    return lines\n",
    "\n",
    "shakespeare_lines: list[str] = read_lines(\"../data/t8.shakespeare.txt\")\n",
    "print(len(shakespeare_lines))"
   ]
  },
  {
   "cell_type": "code",
   "execution_count": 5,
   "metadata": {},
   "outputs": [],
   "source": [
    "def tally(counts: dict[str, int], key: str) -> None:\n",
    "    \"\"\"Mutates counts by increasing the value stored at key by 1.\"\"\"\n",
    "    if key in counts:\n",
    "        counts[key] += 1\n",
    "    else:\n",
    "        counts[key] = 1"
   ]
  },
  {
   "cell_type": "code",
   "execution_count": 6,
   "metadata": {},
   "outputs": [
    {
     "name": "stdout",
     "output_type": "stream",
     "text": [
      "{'a': 1}\n",
      "{'a': 2}\n",
      "{'a': 2, 'b': 1}\n"
     ]
    }
   ],
   "source": [
    "d: dict[str, int] = {}\n",
    "tally(d, \"a\")\n",
    "print(d)\n",
    "tally(d, \"a\")\n",
    "print(d)\n",
    "tally(d, \"b\")\n",
    "print(d)\n"
   ]
  },
  {
   "cell_type": "code",
   "execution_count": 8,
   "metadata": {},
   "outputs": [
    {
     "name": "stdout",
     "output_type": "stream",
     "text": [
      "{'s': 117, 'h': 50, 'a': 91, 'k': 7, 'e': 276, 'p': 44, 'r': 95, 'n': 138, 'd': 36, 'x': 99, 'i': 134, 't': 173, 'u': 113, 'l': 60, 'o': 93, 'g': 35, 'c': 37, 'm': 33, 'b': 25, 'w': 12, 'y': 10, 'v': 12, 'f': 3, 'j': 3, 'z': 1, 'q': 1}\n"
     ]
    }
   ],
   "source": [
    "def count_letters(lines: list[str]) -> dict[str, int]: \n",
    "    \"\"\"Counts the frequencies of all letters in a list of strings.\"\"\"\n",
    "    counts: dict[str, int] = {}\n",
    "    for line in lines: #line is a string\n",
    "        for letter in line:\n",
    "            if line.isalpha():\n",
    "                tally(counts, letter)\n",
    "    return counts\n",
    "\n",
    "shakes_letters: dict[str, int] = count_letters(shakespeare_lines)\n",
    "print(shakes_letters)"
   ]
  },
  {
   "attachments": {},
   "cell_type": "markdown",
   "metadata": {},
   "source": [
    "# Sorting Dictionaties"
   ]
  },
  {
   "cell_type": "code",
   "execution_count": 12,
   "metadata": {},
   "outputs": [
    {
     "name": "stdout",
     "output_type": "stream",
     "text": [
      "{'s': 117, 'h': 50, 'a': 91, 'k': 7, 'e': 276, 'p': 44, 'r': 95, 'n': 138, 'd': 36, 'x': 99, 'i': 134, 't': 173, 'u': 113, 'l': 60, 'o': 93, 'g': 35, 'c': 37, 'm': 33, 'b': 25, 'w': 12, 'y': 10, 'v': 12, 'f': 3, 'j': 3, 'z': 1, 'q': 1}\n",
      "[('s', 117), ('h', 50), ('a', 91), ('k', 7), ('e', 276), ('p', 44), ('r', 95), ('n', 138), ('d', 36), ('x', 99), ('i', 134), ('t', 173), ('u', 113), ('l', 60), ('o', 93), ('g', 35), ('c', 37), ('m', 33), ('b', 25), ('w', 12), ('y', 10), ('v', 12), ('f', 3), ('j', 3), ('z', 1), ('q', 1)]\n",
      "[('a', 91), ('b', 25), ('c', 37), ('d', 36), ('e', 276), ('f', 3), ('g', 35), ('h', 50), ('i', 134), ('j', 3), ('k', 7), ('l', 60), ('m', 33), ('n', 138), ('o', 93), ('p', 44), ('q', 1), ('r', 95), ('s', 117), ('t', 173), ('u', 113), ('v', 12), ('w', 12), ('x', 99), ('y', 10), ('z', 1)]\n"
     ]
    },
    {
     "data": {
      "text/plain": [
       "{'a': 91,\n",
       " 'b': 25,\n",
       " 'c': 37,\n",
       " 'd': 36,\n",
       " 'e': 276,\n",
       " 'f': 3,\n",
       " 'g': 35,\n",
       " 'h': 50,\n",
       " 'i': 134,\n",
       " 'j': 3,\n",
       " 'k': 7,\n",
       " 'l': 60,\n",
       " 'm': 33,\n",
       " 'n': 138,\n",
       " 'o': 93,\n",
       " 'p': 44,\n",
       " 'q': 1,\n",
       " 'r': 95,\n",
       " 's': 117,\n",
       " 't': 173,\n",
       " 'u': 113,\n",
       " 'v': 12,\n",
       " 'w': 12,\n",
       " 'x': 99,\n",
       " 'y': 10,\n",
       " 'z': 1}"
      ]
     },
     "execution_count": 12,
     "metadata": {},
     "output_type": "execute_result"
    }
   ],
   "source": [
    "# Get list of items of a dictionary\n",
    "print(shakes_letters)\n",
    "\n",
    "#Turns dictionary into list\n",
    "shakes_letters_list = list(shakes_letters.items()) \n",
    "print(shakes_letters_list)\n",
    "\n",
    "#Sorts items of list\n",
    "shakes_letters_list = sorted(shakes_letters_list)\n",
    "print(shakes_letters_list) \n",
    "\n",
    "#Turns sorted list into dictionary\n",
    "shakes_letters_sorted = dict(shakes_letters_list)\n",
    "shakes_letters_sorted\n",
    "\n"
   ]
  },
  {
   "cell_type": "code",
   "execution_count": 13,
   "metadata": {},
   "outputs": [
    {
     "data": {
      "text/plain": [
       "<BarContainer object of 26 artists>"
      ]
     },
     "execution_count": 13,
     "metadata": {},
     "output_type": "execute_result"
    },
    {
     "data": {
      "image/png": "[encoded data removed]",
      "text/plain": [
       "<Figure size 640x480 with 1 Axes>"
      ]
     },
     "metadata": {},
     "output_type": "display_data"
    }
   ],
   "source": [
    "from matplotlib import pyplot\n",
    "\n",
    "pyplot.title(\"Letters Frequency\")\n",
    "pyplot.xlabel(\"Letters\")\n",
    "pyplot.ylabel(\"Frequency\")\n",
    "labels: list[str] = list(sorted_letters_dict.keys())\n",
    "values: list[int] = list(sorted_letters_dict.values())\n",
    "pyplot.bar(labels, values)"
   ]
  }
 ],
 "metadata": {
  "kernelspec": {
   "display_name": "Python 3",
   "language": "python",
   "name": "python3"
  },
  "language_info": {
   "codemirror_mode": {
    "name": "ipython",
    "version": 3
   },
   "file_extension": ".py",
   "mimetype": "text/x-python",
   "name": "python",
   "nbconvert_exporter": "python",
   "pygments_lexer": "ipython3",
   "version": "3.11.1"
  },
  "orig_nbformat": 4,
  "vscode": {
   "interpreter": {
    "hash": "aee8b7b246df8f9039afb4144a1f6fd8d2ca17a180786b69acc140d282b71a49"
   }
  }
 },
 "nbformat": 4,
 "nbformat_minor": 2
}
